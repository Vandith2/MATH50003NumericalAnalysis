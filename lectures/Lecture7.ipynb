{
 "cells": [
  {
   "attachments": {},
   "cell_type": "markdown",
   "id": "5a013159",
   "metadata": {},
   "source": [
    "# Vectors"
   ]
  },
  {
   "cell_type": "code",
   "execution_count": 1,
   "id": "8b5ed11b",
   "metadata": {},
   "outputs": [
    {
     "data": {
      "text/plain": [
       "(Int8, 3, Ptr{Int8} @0x0000012c1a385478)"
      ]
     },
     "execution_count": 1,
     "metadata": {},
     "output_type": "display_data"
    }
   ],
   "source": [
    "x = Int8[5, 7, 3] # Makes a vector with entries 5, 7, 3 all of type Int8"
   ]
  },
  {
   "cell_type": "code",
   "execution_count": 2,
   "id": "310248aa",
   "metadata": {},
   "outputs": [
    {
     "data": {
      "text/plain": [
       "(Int8, 3, Ptr{Int8} @0x000000011bbb3878)"
      ]
     },
     "metadata": {},
     "output_type": "display_data"
    }
   ],
   "source": [
    "# A vector consists of 3 pieces of inversion:\n",
    "# element type, length, address memory (called pointer)\n",
    "eltype(x), length(x), pointer(x)"
   ]
  },
  {
   "cell_type": "code",
   "execution_count": 2,
   "id": "3ed6cd51",
   "metadata": {},
   "outputs": [
    {
     "data": {
      "text/plain": [
       "3"
      ]
     },
     "execution_count": 2,
     "metadata": {},
     "output_type": "execute_result"
    }
   ],
   "source": [
    "# DONT DO THIS: may cause Julia to crash if you access outside allowed memore\n",
    "p = pointer(x)\n",
    "Base.unsafe_load(p+2) # address + 2 gives 3rd entry, since each element uses 8-bits = 1 byte"
   ]
  },
  {
   "cell_type": "code",
<<<<<<< HEAD
   "execution_count": 3,
=======
   "execution_count": 4,
>>>>>>> 2f89a2414b0102be48d417a27966209acd8a2432
   "id": "50bd7ae5",
   "metadata": {},
   "outputs": [
    {
     "data": {
      "text/plain": [
       "3-element Vector{Int16}:\n",
       " 5\n",
       " 7\n",
       " 3"
      ]
     },
     "execution_count": 3,
     "metadata": {},
     "output_type": "display_data"
    }
   ],
   "source": [
    "x = Int16[5, 7, 3] # now each element is an Int16, which uses 16-bits = 2 bytes"
   ]
  },
  {
   "cell_type": "code",
   "execution_count": 4,
   "id": "882b5ada",
   "metadata": {},
   "outputs": [
    {
     "data": {
      "text/plain": [
       "1792"
      ]
     },
     "metadata": {},
     "output_type": "display_data"
    }
   ],
   "source": [
    "p = pointer(x)\n",
    "Base.unsafe_load(p + 1) # nonsense: we are mixing up two bytes from two different numbers"
   ]
  },
  {
   "cell_type": "code",
   "execution_count": 6,
   "id": "fe1c9389",
   "metadata": {},
   "outputs": [
    {
     "data": {
      "text/plain": [
       "7"
      ]
     },
     "execution_count": 4,
     "metadata": {},
     "output_type": "display_data"
    }
   ],
   "source": [
    "T = eltype(x) # type of each entry Int16\n",
    "s = sizeof(T) # 2 (the number of bytes for each entry)\n",
    "Base.unsafe_load(p + s) # next entry, which is two addresses away from first"
   ]
  },
  {
   "cell_type": "code",
   "execution_count": 5,
   "id": "49b4f70f",
   "metadata": {},
   "outputs": [
    {
     "data": {
      "text/plain": [
       "11"
      ]
     },
     "execution_count": 5,
     "metadata": {},
     "output_type": "execute_result"
    }
   ],
   "source": [
    "x[2] = 11"
   ]
  },
  {
   "cell_type": "code",
   "execution_count": 6,
   "id": "0d7df10d",
   "metadata": {},
   "outputs": [
    {
     "data": {
      "text/plain": [
       "3-element Vector{Int16}:\n",
       "  5\n",
       " 11\n",
       "  3"
      ]
     },
     "execution_count": 6,
     "metadata": {},
     "output_type": "display_data"
    }
   ],
   "source": [
    "# we can modify an arrays entries as follows, changing the data in memory:\n",
    "x[2] = 11\n",
    "x"
   ]
  },
  {
   "attachments": {},
   "cell_type": "markdown",
   "id": "59599e77",
   "metadata": {},
   "source": [
    "## Matrices (dense)"
   ]
  },
  {
   "cell_type": "code",
   "execution_count": 7,
   "id": "b155bb2c",
   "metadata": {},
   "outputs": [
    {
     "data": {
      "text/plain": [
       "3×2 Matrix{Int64}:\n",
       " 1  2\n",
       " 3  4\n",
       " 5  6"
      ]
     },
     "metadata": {},
     "output_type": "display_data"
    }
   ],
   "source": [
    "# creates a 3 × 2 matrix with Int entries\n",
    "A = [1 2;\n",
    "     3 4;\n",
    "     5 6]"
   ]
  },
  {
   "cell_type": "code",
   "execution_count": 9,
   "id": "279bcd52",
   "metadata": {},
   "outputs": [
    {
     "data": {
      "text/plain": [
       "6-element Vector{Int64}:\n",
       " 1\n",
       " 3\n",
       " 5\n",
       " 2\n",
       " 4\n",
       " 6"
      ]
     },
     "execution_count": 7,
     "metadata": {},
     "output_type": "display_data"
    }
   ],
   "source": [
    "# storage is same as a vector\n",
    "vec(A)"
   ]
  },
  {
   "cell_type": "code",
   "execution_count": 8,
   "id": "42248eed",
   "metadata": {},
   "outputs": [
    {
     "data": {
      "text/plain": [
       "(Int64, (3, 2), Ptr{Int64} @0x0000012c1bfa9bd0)"
      ]
     },
     "execution_count": 8,
     "metadata": {},
     "output_type": "execute_result"
    }
   ],
   "source": [
    "# a Matrix consists of 3 things:\n",
    "# element type, size (two Ints), and a pointer to the first address \n",
    "eltype(A), size(A), pointer(A)"
   ]
  },
  {
   "attachments": {},
   "cell_type": "markdown",
   "id": "5abade39",
   "metadata": {},
   "source": [
    "# Matrix-vector mult."
   ]
  },
  {
   "cell_type": "code",
   "execution_count": 9,
   "id": "4883e816",
   "metadata": {},
   "outputs": [],
   "source": [
    "# Load LinearAlgebra which supports some linear algebra operations\n",
    "using LinearAlgebra"
   ]
  },
  {
   "cell_type": "code",
   "execution_count": 10,
   "id": "4be99410",
   "metadata": {},
   "outputs": [
    {
     "data": {
      "text/plain": [
       "5-element Vector{Float64}:\n",
       " -2.2088081640247212\n",
       "  0.5252777850181263\n",
       "  1.449000018648622\n",
       " -0.57912681170453\n",
       " -1.0008913491202756"
      ]
     },
     "execution_count": 10,
     "metadata": {},
     "output_type": "display_data"
    }
   ],
   "source": [
    "# inbuilt way\n",
    "\n",
    "n = 5\n",
    "A = randn(n,n) # n x n matrix with normal entries\n",
    "x = randn(n)\n",
    "A*x # uses optimised routine"
   ]
  },
  {
   "cell_type": "code",
   "execution_count": 11,
   "id": "74df8b02",
   "metadata": {},
   "outputs": [
    {
     "data": {
      "text/plain": [
       "true"
      ]
     },
     "execution_count": 11,
     "metadata": {},
     "output_type": "display_data"
    }
   ],
   "source": [
    "## Alg 1 (by rows)\n",
    "function mul_rows(A, x)\n",
    "    # T is usually Float64\n",
    "    T = promote_type(eltype(A), eltype(x))\n",
    "    m,n = size(A) # dimensions of the matrix\n",
    "    if n != length(x) #!= means not-equal\n",
    "        error(\"incompatible\")\n",
    "    end\n",
    "    b = zeros(T, m) # vector of all zeros\n",
    "    for k = 1:m\n",
    "        for j = 1:n\n",
    "            b[k] = b[k] + A[k,j]*x[j]\n",
    "        end\n",
    "    end\n",
    "    b\n",
    "end\n",
    "\n",
    "# alg 2 (by columns)\n",
    "function mul_cols(A, x)\n",
    "    # T is usually Float64\n",
    "    T = promote_type(eltype(A), eltype(x))\n",
    "    m,n = size(A) # dimensions of the matrix\n",
    "    if n != length(x) #!= means not-equal\n",
    "        error(\"incompatible\")\n",
    "    end\n",
    "    b = zeros(T, m) # vector of all zeros\n",
    "    for j = 1:n    \n",
    "        for k = 1:m\n",
    "            b[k] = b[k] + A[k,j]*x[j]\n",
    "        end\n",
    "    end\n",
    "    b\n",
    "end\n",
    "\n",
    "# algorithms match (approximately)\n",
    "A*x ≈ mul_rows(A,x) ≈ mul_cols(A,x)"
   ]
  },
  {
   "cell_type": "code",
   "execution_count": 12,
   "id": "eb10a8a3",
   "metadata": {},
   "outputs": [
    {
     "name": "stdout",
     "output_type": "stream",
     "text": [
      "inbulit\n",
      "  0.054984 seconds (2 allocations: 78.172 KiB)\n",
      "by rows\n",
      "  2.574770 seconds (2 allocations: 78.172 KiB)\n",
      "by cols\n",
      "  0.121857 seconds (2 allocations: 78.172 KiB)\n"
     ]
    },
    {
     "data": {
      "text/plain": [
       "10000-element Vector{Float64}:\n",
       "  127.97890920643432\n",
       "   -9.30778260358167\n",
       "  -65.9123058791191\n",
       "  -78.48616159682601\n",
       "  -96.83296162982585\n",
       "  -56.937373843577376\n",
       "  118.77910788974292\n",
       "  113.75708318517566\n",
       "   24.076428363160613\n",
       "   67.03331009986037\n",
       "  138.85830743879606\n",
       " -110.86064956912527\n",
       "   97.6360024921362\n",
       "    ⋮\n",
       "   -1.3407936196924157\n",
       "  174.05161465013956\n",
       "    2.9362818307713443\n",
       "   10.017069112263165\n",
       " -258.8236190747783\n",
       "   -4.3993034304261585\n",
       "  120.3776833192004\n",
       "    9.00953396717842\n",
       "  -26.50142145702994\n",
       "  -41.82072349814547\n",
       "  120.37219170322972\n",
       "   59.77750841794665"
      ]
     },
     "execution_count": 12,
     "metadata": {},
     "output_type": "execute_result"
    }
   ],
   "source": [
    "\n",
    "# mul_cols is 5–10x faster than mul_rows since it access memory in order\n",
    "n = 10000\n",
    "A = randn(n,n)\n",
    "x = randn(n)\n",
    "println(\"inbulit\")\n",
    "@time A*x\n",
    "println(\"by rows\")\n",
    "@time mul_rows(A,x)\n",
    "println(\"by cols\")\n",
    "@time mul_cols(A,x);"
   ]
  },
  {
   "cell_type": "markdown",
   "id": "b01c7548",
   "metadata": {},
   "source": [
    "# Triangular matrices"
   ]
  },
  {
   "cell_type": "code",
   "execution_count": 13,
   "id": "8472ba30",
   "metadata": {},
   "outputs": [
    {
     "data": {
      "text/plain": [
       "3×3 UpperTriangular{Int64, Matrix{Int64}}:\n",
       " 1  2  3\n",
       " ⋅  5  6\n",
       " ⋅  ⋅  9"
      ]
     },
     "execution_count": 13,
     "metadata": {},
     "output_type": "execute_result"
    }
   ],
   "source": [
    "A = [1 2 3; 4 5 6; 7 8 9]\n",
    "U = UpperTriangular(A) # wraps the matrix A"
   ]
  },
  {
   "cell_type": "code",
   "execution_count": 14,
   "id": "0187dd7a",
   "metadata": {},
   "outputs": [
    {
     "data": {
      "text/plain": [
       "3×3 UpperTriangular{Int64, Matrix{Int64}}:\n",
       " 1  2  6\n",
       " ⋅  5  6\n",
       " ⋅  ⋅  9"
      ]
     },
     "execution_count": 14,
     "metadata": {},
     "output_type": "execute_result"
    }
   ],
   "source": [
    "U[1,3] = 6 # change entries of U\n",
    "U"
   ]
  },
  {
   "cell_type": "code",
   "execution_count": 15,
   "id": "5e4cf5ea",
   "metadata": {},
   "outputs": [
    {
     "data": {
      "text/plain": [
       "3×3 Matrix{Int64}:\n",
       " 1  2  6\n",
       " 4  5  6\n",
       " 7  8  9"
      ]
     },
     "execution_count": 15,
     "metadata": {},
     "output_type": "execute_result"
    }
   ],
   "source": [
    "A # modifying U also modifes A"
   ]
  },
  {
   "cell_type": "code",
   "execution_count": 16,
   "id": "dcf80086",
   "metadata": {},
   "outputs": [
    {
     "data": {
      "text/plain": [
       "3×3 Matrix{Int64}:\n",
       " 1  2  6\n",
       " 4  5  6\n",
       " 7  8  9"
      ]
     },
     "execution_count": 16,
     "metadata": {},
     "output_type": "execute_result"
    }
   ],
   "source": [
    "fieldnames(typeof(U))\n",
    "U.data"
   ]
  },
  {
   "cell_type": "code",
   "execution_count": 17,
   "id": "413942de",
   "metadata": {},
   "outputs": [
    {
     "name": "stdout",
     "output_type": "stream",
     "text": [
      "  0.100440 seconds (64.84 k allocations: 3.357 MiB, 71.07% compilation time)\n",
      " 12.698504 seconds (2.42 M allocations: 881.960 MiB, 2.87% gc time, 17.30% compilation time)\n"
     ]
    }
   ],
   "source": [
    "# UpperTriangular matrices can solve linear systems fast:\n",
    "n = 10000\n",
    "A = randn(n,n)\n",
    "U = UpperTriangular(A)\n",
    "b = randn(n)\n",
    "@time U \\ b # 10x faster by using back-substitution\n",
    "@time A \\ b; # uses matrix-factorization A = P * L *U"
   ]
  },
  {
   "cell_type": "code",
   "execution_count": 18,
   "id": "d42cefdd",
   "metadata": {},
   "outputs": [
    {
     "data": {
      "text/plain": [
       "ldiv (generic function with 1 method)"
      ]
     },
     "execution_count": 18,
     "metadata": {},
     "output_type": "execute_result"
    }
   ],
   "source": [
    "# our implementation of U\\b using backsub\n",
    "function ldiv(U::UpperTriangular, b)\n",
    "    T = promote_type(eltype(U), eltype(b))\n",
    "    m,n = size(U) # note m == n\n",
    "    x = zeros(T, n)\n",
    "    for k = n:-1:1 # compute x[n] first\n",
    "        r = b[k] # r is a \"dummy variable\"\n",
    "        for j = k+1:n\n",
    "            r = r - U[k,j]*x[j] # note we computed x[j] for j > k\n",
    "        end\n",
    "        x[k] = r/U[k,k]\n",
    "    end\n",
    "    x\n",
    "end"
   ]
  },
  {
   "cell_type": "code",
   "execution_count": 19,
   "id": "c4f6268b",
   "metadata": {},
   "outputs": [
    {
     "data": {
      "text/plain": [
       "true"
      ]
     },
     "execution_count": 19,
     "metadata": {},
     "output_type": "execute_result"
    }
   ],
   "source": [
    "n = 1000\n",
    "# A = randn(n,n)  This is VERY INACCURATE!! WHY???\n",
    "A = randn(n,n) + 100I # Adding 100I adds 100 to each diagonal of A, making it \"stable\"\n",
    "U = UpperTriangular(A)\n",
    "x = randn(n)\n",
    "b = U*x\n",
    "\n",
    "x ≈ U\\b ≈ ldiv(U,b)"
   ]
  },
  {
   "cell_type": "code",
   "execution_count": 20,
   "id": "32c1d1b9",
   "metadata": {},
   "outputs": [
    {
     "data": {
      "text/plain": [
       "97.03068588833027"
      ]
     },
     "execution_count": 20,
     "metadata": {},
     "output_type": "execute_result"
    }
   ],
   "source": [
    "# The issue without the 100I is that the diagonal becomes small. We will explain this in detail later:\n",
    "minimum(abs.(diag(A)))"
   ]
  },
  {
   "cell_type": "markdown",
   "id": "9d5bfd95",
   "metadata": {},
   "source": [
    "# 3. Banded Matrices"
   ]
  },
  {
   "cell_type": "code",
   "execution_count": 21,
   "id": "52ee51e1",
   "metadata": {},
   "outputs": [
    {
     "data": {
      "text/plain": [
       "4×4 Diagonal{Int64, Vector{Int64}}:\n",
       " 1  ⋅  ⋅  ⋅\n",
       " ⋅  2  ⋅  ⋅\n",
       " ⋅  ⋅  3  ⋅\n",
       " ⋅  ⋅  ⋅  4"
      ]
     },
     "execution_count": 21,
     "metadata": {},
     "output_type": "execute_result"
    }
   ],
   "source": [
    "d = [1,2,3,4]\n",
    "D = Diagonal(d) # stored as a vector, l = u = 0"
   ]
  },
  {
   "cell_type": "code",
   "execution_count": 22,
   "id": "1261807d",
   "metadata": {},
   "outputs": [
    {
     "data": {
      "text/plain": [
       "5×5 Bidiagonal{Int64, Vector{Int64}}:\n",
       " 1  5  ⋅  ⋅  ⋅\n",
       " ⋅  2  6  ⋅  ⋅\n",
       " ⋅  ⋅  3  7  ⋅\n",
       " ⋅  ⋅  ⋅  4  8\n",
       " ⋅  ⋅  ⋅  ⋅  5"
      ]
     },
     "execution_count": 22,
     "metadata": {},
     "output_type": "execute_result"
    }
   ],
   "source": [
    "d = [1,2,3,4,5]\n",
    "u = [5,6,7,8]\n",
    "U = Bidiagonal(d, u, :U) # stores two vectors and whether upper or loweer"
   ]
  },
  {
   "cell_type": "code",
   "execution_count": 23,
   "id": "5ed1f393",
   "metadata": {},
   "outputs": [
    {
     "data": {
      "text/plain": [
       "5×5 Tridiagonal{Int64, Vector{Int64}}:\n",
       " 1   5   ⋅   ⋅  ⋅\n",
       " 9   2   6   ⋅  ⋅\n",
       " ⋅  10   3   7  ⋅\n",
       " ⋅   ⋅  11   4  8\n",
       " ⋅   ⋅   ⋅  12  5"
      ]
     },
     "execution_count": 23,
     "metadata": {},
     "output_type": "execute_result"
    }
   ],
   "source": [
    "d = [1,2,3,4,5]\n",
    "u = [5,6,7,8]\n",
    "l = [9,10,11,12]\n",
    "T = Tridiagonal(l, d, u) # store 3 vectors\n",
    "\n",
    "# Tridiagonal come up for solving ODEs"
   ]
  },
  {
   "cell_type": "code",
   "execution_count": 24,
   "id": "7c8bb9a0",
   "metadata": {},
   "outputs": [
    {
     "name": "stdout",
     "output_type": "stream",
     "text": [
      "  0.301646 seconds (84.87 k allocations: 80.818 MiB, 47.01% compilation time)\n"
     ]
    }
   ],
   "source": [
    "n = 10_000_000 # _ means ,\n",
    "d = randn(n) .+ 1000 # add 1000 to diag so its \"stable\"\n",
    "u = randn(n-1)\n",
    "U = Bidiagonal(d, u, :U) # stores two vectors and whether upper or loweer\n",
    "b = randn(n)\n",
    "@time U \\ b; # computational cost scales like n so we can go to very large n"
   ]
  },
  {
   "cell_type": "code",
   "execution_count": 25,
   "id": "7a815c73",
   "metadata": {},
   "outputs": [
    {
     "data": {
      "text/plain": [
       "'U': ASCII/Unicode U+0055 (category Lu: Letter, uppercase)"
      ]
     },
     "execution_count": 25,
     "metadata": {},
     "output_type": "execute_result"
    }
   ],
   "source": [
    "fieldnames(typeof(U))\n",
    "U.uplo # == 'U', `U.uplo` tells us if its upper or lower triangular"
   ]
  },
  {
   "cell_type": "code",
   "execution_count": 26,
   "id": "bdd1c5d7",
   "metadata": {},
   "outputs": [
    {
     "data": {
      "text/plain": [
       "ldiv (generic function with 2 methods)"
      ]
     },
     "execution_count": 26,
     "metadata": {},
     "output_type": "execute_result"
    }
   ],
   "source": [
    "# our implementation of U\\b using backsub\n",
    "function ldiv(U::Bidiagonal, b) \n",
    "    T = promote_type(eltype(U), eltype(b))\n",
    "    m,n = size(U) # note m == n\n",
    "    x = zeros(T, n)\n",
    "    if U.uplo == 'U'\n",
    "        for k = n:-1:1 # compute x[n] first\n",
    "            r = b[k] # r is a \"dummy variabl\"\n",
    "            for j = k+1:min(n,k+1) # only access non-zeros of U\n",
    "                r = r - U[k,j]*x[j] # note we computed x[j] for j > k\n",
    "            end\n",
    "            x[k] = r/U[k,k]\n",
    "        end\n",
    "    else\n",
    "        error(\"Not implemented for lower triangular matrices\")\n",
    "    end\n",
    "    x\n",
    "end"
   ]
  },
  {
   "cell_type": "code",
   "execution_count": 27,
   "id": "3cc385d3",
   "metadata": {},
   "outputs": [
    {
     "data": {
      "text/plain": [
       "true"
      ]
     },
     "execution_count": 27,
     "metadata": {},
     "output_type": "execute_result"
    }
   ],
   "source": [
    "n = 1000 # _ means ,\n",
    "d = randn(n) .+ 1000 # add 1000 to diag so its \"stable\"\n",
    "u = randn(n-1)\n",
    "U = Bidiagonal(d, u, :U) # stores two vectors and whether upper or loweer\n",
    "b = randn(n)\n",
    "U \\ b ≈ ldiv(U,b)"
   ]
  },
  {
   "cell_type": "code",
   "execution_count": 28,
   "id": "313966bc",
   "metadata": {},
   "outputs": [],
   "source": [
    "struct Infinity <: Number # Infinity is subtype of Number\n",
    "end"
   ]
  },
  {
   "cell_type": "code",
   "execution_count": 31,
   "id": "f6269b9b",
   "metadata": {},
   "outputs": [
    {
     "data": {
      "text/plain": [
       "5×5 Matrix{Float64}:\n",
       " -0.488468  -1.10272   0.482993  -0.119889  -2.18488\n",
       " -0.80258   -0.068275  1.78568    0.32164    0.223866\n",
       " -0.168629  -0.395839  0.244069  -2.5719     0.761898\n",
       "  0.268804   0.659397  0.234108   0.883998   1.57122\n",
       "  2.18339    1.12721   0.451052  -0.256873   1.9588"
      ]
     },
     "execution_count": 31,
     "metadata": {},
     "output_type": "execute_result"
    }
   ],
   "source": [
    "A = randn(5, 5)"
   ]
  },
  {
   "cell_type": "code",
   "execution_count": 32,
   "id": "9dc84f1f",
   "metadata": {},
   "outputs": [
    {
     "data": {
      "text/plain": [
       "5×5 Matrix{Float64}:\n",
       " -0.488468  -1.10272   0.4       -0.119889  -2.18488\n",
       " -0.80258   -0.068275  0.4        0.32164    0.223866\n",
       " -0.168629  -0.395839  0.244069  -2.5719     0.4\n",
       "  0.268804   0.4       0.234108   0.4        0.4\n",
       "  0.4        0.4       0.4       -0.256873   0.4"
      ]
     },
     "execution_count": 32,
     "metadata": {},
     "output_type": "execute_result"
    }
   ],
   "source": [
    "min.(A,0.4)"
   ]
  },
  {
   "cell_type": "code",
   "execution_count": 33,
   "id": "0bd6e1a3",
   "metadata": {},
   "outputs": [
    {
     "ename": "LoadError",
     "evalue": "syntax: incomplete: premature end of input",
     "output_type": "error",
     "traceback": [
      "syntax: incomplete: premature end of input",
      "",
      "Stacktrace:",
      " [1] top-level scope",
      "   @ In[33]:13"
     ]
    }
   ],
   "source": [
    "struct MinMatrix{T} <: AbstractMatrix{T}\n",
    "  A::Matrix{T}\n",
    "  c::T\n",
    "end\n",
    "\n",
    "import Base: size, getindex\n",
    "size(M::MinMatrix) = size(M.A)\n",
    "\n",
    "# getindex(M, k, j) = M[k, j]\n",
    "getindex(M::MinMatrix, k::Int, j::Int) = min(M.A[k, j], M.c)\n",
    "\n",
    "# setindex(M, v, k, j) = (M[k, j] = v)\n",
    "function setindex!(M::MinMatrix, v, k::Int, j::Int)\n",
    "  "
   ]
  },
  {
   "cell_type": "code",
   "execution_count": null,
   "id": "3413ff23",
   "metadata": {},
   "outputs": [],
   "source": []
  }
 ],
 "metadata": {
  "kernelspec": {
   "display_name": "Julia 1.8.5",
   "language": "julia",
   "name": "julia-1.8"
  },
  "language_info": {
   "file_extension": ".jl",
   "mimetype": "application/julia",
   "name": "julia",
   "version": "1.8.5"
  }
 },
 "nbformat": 4,
 "nbformat_minor": 5
}
