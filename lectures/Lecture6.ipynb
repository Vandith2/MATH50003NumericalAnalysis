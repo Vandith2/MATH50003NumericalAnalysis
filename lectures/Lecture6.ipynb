{
 "cells": [
  {
   "cell_type": "markdown",
   "id": "1e5a3a58",
   "metadata": {},
   "source": [
    "# II.4 Dual Numbers (cont.)\n",
    "\n",
    "\n",
    "Recall: dual numbers are $a + b ε$ where $ε^2 = 0$.\n",
    "\n",
    "Similar to complex numbers: $a + b {\\rm i}$ where ${\\rm i}^2 = -1$.\n",
    "\n",
    "We showed last lecture that if $p$ is polynomial that\n",
    "$$\n",
    "p(a + bε) = p(a) + bp'(a)ε.\n",
    "$$\n",
    "We want to now implement dual numbers on a computer to compute derivatives.\n",
    "\n",
    "**Forward-mode automatic differentiation**\n"
   ]
  },
  {
   "cell_type": "code",
   "execution_count": 1,
   "id": "0639b86f",
   "metadata": {},
   "outputs": [
    {
     "data": {
      "text/plain": [
       "exp_t (generic function with 1 method)"
      ]
     },
     "execution_count": 1,
     "metadata": {},
     "output_type": "execute_result"
    }
   ],
   "source": [
    "import Base: show, +, *, /, -, exp, ^ # ring operations\n",
    "\n",
    "# user Taylor series exp(x) ≈ Σ_{k=0}^n x^k/k!\n",
    "function exp_t(x, n)\n",
    "    ret = 0\n",
    "    summand = 1\n",
    "    for k = 0:n\n",
    "        ret += summand\n",
    "        summand *= x/(k+1) # uses Float64 arithmetic\n",
    "    end\n",
    "    return ret\n",
    "end"
   ]
  },
  {
   "cell_type": "code",
   "execution_count": 2,
   "id": "b0d9dd87",
   "metadata": {},
   "outputs": [
    {
     "data": {
      "text/plain": [
       "1 + 2im"
      ]
     },
     "execution_count": 2,
     "metadata": {},
     "output_type": "execute_result"
    }
   ],
   "source": [
    "# complex number in Julia\n",
    "im^2 # this is i, i.e. im^2\n",
    "z = 1 + 2im # this means 1 + 2i"
   ]
  },
  {
   "cell_type": "code",
   "execution_count": 3,
   "id": "5b8ac9b3",
   "metadata": {},
   "outputs": [
    {
     "data": {
      "text/plain": [
       "(1, 2)"
      ]
     },
     "execution_count": 3,
     "metadata": {},
     "output_type": "execute_result"
    }
   ],
   "source": [
    "# typeof(z) == Complex{Int} since the real/imag parts are Int.\n",
    "# We can create also as follows\n",
    "z = Complex(1, 2) # same as 1+2im\n",
    "# A complex number has two fields corresponding to the real and imag parts:\n",
    "z.re, z.im"
   ]
  },
  {
   "cell_type": "code",
   "execution_count": 4,
   "id": "c0cd2aee",
   "metadata": {},
   "outputs": [
    {
     "data": {
      "text/plain": [
       "-3 + 4im"
      ]
     },
     "execution_count": 4,
     "metadata": {},
     "output_type": "execute_result"
    }
   ],
   "source": [
    "# * is overloaded to perform complex multiplication\n",
    "z * z"
   ]
  },
  {
   "cell_type": "code",
   "execution_count": 5,
   "id": "8439573f",
   "metadata": {},
   "outputs": [
    {
     "data": {
      "text/plain": [
       "ComplexF64\u001b[90m (alias for \u001b[39m\u001b[90mComplex{Float64}\u001b[39m\u001b[90m)\u001b[39m"
      ]
     },
     "execution_count": 5,
     "metadata": {},
     "output_type": "execute_result"
    }
   ],
   "source": [
    "\n",
    "# When we add a Float64 and a Complex{Int} we get a Complex{Float64} ≡ ComplexF64\n",
    "z = 1.4 + 2im\n",
    "typeof(z)"
   ]
  },
  {
   "cell_type": "code",
   "execution_count": 6,
   "id": "d88bc787",
   "metadata": {},
   "outputs": [
    {
     "data": {
      "text/plain": [
       "exp (generic function with 15 methods)"
      ]
     },
     "execution_count": 6,
     "metadata": {},
     "output_type": "execute_result"
    }
   ],
   "source": [
    "# Dual(a,b) represents a + b*ε\n",
    "struct Dual{T}\n",
    "    a::T # this means a is type T, usually Float64\n",
    "    b::T\n",
    "end\n",
    "\n",
    "# This is called if a and b are different types. If they are the same type `T`\n",
    "# then it creates a Dual{T}. This can be made explicit via Dual{T}(a,b)\n",
    "function Dual(a, b)\n",
    "    T = promote_type(typeof(a), typeof(b)) # usually find bigger type, Float64\n",
    "    Dual{T}(a, b) # creates Dual{T}, converts a and b to type T\n",
    "end\n",
    "\n",
    "# const means the variable cannot change\n",
    "const ε = Dual(0,1)\n",
    "\n",
    "\n",
    "\n",
    "# overload show to change the display (non-examinable)\n",
    "show(io::IO, x::Dual) = print(io, string(x.a) * \" + \" * string(x.b) * \"ε\")\n",
    "\n",
    "# When adding a Real (say an Int) to a Dual, we modify only `a`\n",
    "+(x::Real, y::Dual) = Dual(x+y.a, y.b)\n",
    "+(x::Dual, y::Dual) = Dual(x.a+y.a, x.b+y.b)\n",
    "# This allows us to negate dual numbers\n",
    "-(x::Dual) = Dual(-x.a, -x.b)\n",
    "\n",
    "# Dividing/multiplying by a Real divides/multiplies each component as its a vector sace\n",
    "/(x::Dual, y::Real) = Dual(x.a/y,x.b/y)\n",
    "*(x::Real, y::Dual) = Dual(x*y.a, x*y.b)\n",
    "\n",
    "# (a+b*ε)*(c+d*ε)== a*c + (b*c+a*d)ε\n",
    "*(x::Dual, y::Dual) = Dual(x.a*y.a, x.b*y.a + x.a*y.b)\n",
    "\n",
    "# to support x^2 (which is equivalent to the call ^(x, 2)), we need to overload ^. \n",
    "function ^(x::Dual, k::Integer) # Integer is a abstract type contain Int, UInt8, etc\n",
    "    if k < 0\n",
    "        error(\"Not implemented\")\n",
    "    elseif k == 1\n",
    "        x\n",
    "    else\n",
    "        x^(k-1) * x\n",
    "    end\n",
    "end\n",
    "\n",
    "# Can extend non-polynomials by using the \"dual extension\"\n",
    "exp(x::Dual) = Dual(exp(x.a), x.b*exp(x.a))"
   ]
  },
  {
   "cell_type": "code",
   "execution_count": 7,
   "id": "ed16f144",
   "metadata": {},
   "outputs": [
    {
     "data": {
      "text/plain": [
       "2.7182818284590455 + 2.7182818284590455ε"
      ]
     },
     "execution_count": 7,
     "metadata": {},
     "output_type": "execute_result"
    }
   ],
   "source": [
    "# We now support all the operations used in exp_t:\n",
    "exp_t(Dual(1.0,1.0), 50) # should be exp_t(1) + exp_t'(1)\n",
    "# incredibly accurate!"
   ]
  },
  {
   "cell_type": "code",
   "execution_count": 8,
   "id": "1f07e40e",
   "metadata": {},
   "outputs": [
    {
     "data": {
      "text/plain": [
       "2.7182818353176117"
      ]
     },
     "execution_count": 8,
     "metadata": {},
     "output_type": "execute_result"
    }
   ],
   "source": [
    "# More accurate than divided differences (w/ quasi-optimal choice of h)\n",
    "h = sqrt(eps())\n",
    "(exp_t(1+h, 50)-exp_t(1, 50))/h"
   ]
  },
  {
   "cell_type": "code",
   "execution_count": 9,
   "id": "eed6260f",
   "metadata": {},
   "outputs": [
    {
     "data": {
      "text/plain": [
       "15.154262241479262 + 41.193555674716116ε"
      ]
     },
     "execution_count": 9,
     "metadata": {},
     "output_type": "execute_result"
    }
   ],
   "source": [
    "# we can compose functions\n",
    "exp(exp(1 + ε))"
   ]
  },
  {
   "cell_type": "code",
   "execution_count": 10,
   "id": "878e0b57",
   "metadata": {},
   "outputs": [
    {
     "data": {
      "text/plain": [
       "0.000617978989331094 + -0.009132562840255837ε"
      ]
     },
     "execution_count": 10,
     "metadata": {},
     "output_type": "execute_result"
    }
   ],
   "source": [
    "# a more complicated example\n",
    "f = x -> exp(-exp(x)^2)\n",
    "f(1+ε)"
   ]
  },
  {
   "cell_type": "code",
   "execution_count": 11,
   "id": "b9586233",
   "metadata": {},
   "outputs": [
    {
     "data": {
      "text/plain": [
       "1.3097995858041505 + 3.175573917841343e-23ε"
      ]
     },
     "execution_count": 11,
     "metadata": {},
     "output_type": "execute_result"
    }
   ],
   "source": [
    "# lets diff. exp(-exp(exp(-exp(… exp(x))))) where the ... is say 100 time\n",
    "\n",
    "x = 1.1 + ε\n",
    "for k = 1:100\n",
    "    x = exp((-1)^k * x)\n",
    "end\n",
    "x"
   ]
  },
  {
   "cell_type": "code",
   "execution_count": 12,
   "id": "122346e1",
   "metadata": {},
   "outputs": [
    {
     "data": {
      "text/plain": [
       "1.309799585804150477669227636073309794231627797088119910659089904813984183832131 + 3.175573917841337600563247262642274789510873995540578821780919894216315914212658e-23ε"
      ]
     },
     "execution_count": 12,
     "metadata": {},
     "output_type": "execute_result"
    }
   ],
   "source": [
    "# Lets check the accuracy using high-precision big flaots:\n",
    "x = big(1.1) + ε\n",
    "for k = 1:100\n",
    "    x = exp((-1)^k * x)\n",
    "end\n",
    "x # amazingly, the derivative is accurate to 15 digits!"
   ]
  },
  {
   "cell_type": "code",
   "execution_count": 13,
   "id": "8c681004",
   "metadata": {},
   "outputs": [
    {
     "data": {
      "text/plain": [
       "1 + 1.0ε"
      ]
     },
     "execution_count": 13,
     "metadata": {},
     "output_type": "execute_result"
    }
   ],
   "source": [
    "Dual{Real}(1, 1.0)"
   ]
  },
  {
   "cell_type": "code",
   "execution_count": 14,
   "id": "971ca1b3",
   "metadata": {},
   "outputs": [
    {
     "data": {
      "text/plain": [
       "mul_rows (generic function with 1 method)"
      ]
     },
     "execution_count": 14,
     "metadata": {},
     "output_type": "execute_result"
    }
   ],
   "source": [
    "using LinearAlgebra\n",
    "\n",
    "function mul_rows(A, x)\n",
    "  m,n = size(A)\n",
    "  # promote_type type finds a type that is compatible with both types, eltype gives the type of the elements of a vector / matrix\n",
    "  T = promote_type(eltype(x), eltype(A))\n",
    "  c = zeros(T, m) # the returned vector, begins of all zeros\n",
    "  for k = 1:m, j = 1:n\n",
    "      c[k] += A[k, j] * x[j] # equivalent to c[k] = c[k] + A[k, j] * x[j]\n",
    "  end\n",
    "  c\n",
    "end"
   ]
  },
  {
   "cell_type": "code",
   "execution_count": 15,
   "id": "806343a7",
   "metadata": {},
   "outputs": [
    {
     "data": {
      "text/plain": [
       "100-element Vector{Float64}:\n",
       "  -98.05483525513294\n",
       "  -98.99558565707655\n",
       " -163.97800007868142\n",
       "  210.7300918723725\n",
       " -222.79926822406117\n",
       "  -72.29288766785768\n",
       " -130.6214421114238\n",
       "  -19.888708059786005\n",
       "  -19.87515995719071\n",
       "   53.226215957869634\n",
       "    4.692869732115536\n",
       "   -2.2523914579990203\n",
       " -129.90446829948212\n",
       "    ⋮\n",
       "   50.03360258097892\n",
       "  120.75865031091728\n",
       "  111.78447750574355\n",
       " -128.74981198160756\n",
       "   55.766897255451745\n",
       "  124.5787576684957\n",
       " -180.7363404293224\n",
       " -209.46612964810822\n",
       "   -2.032299500798974\n",
       "  -33.42110874604596\n",
       "   77.76584635262944\n",
       "  -56.21523635669762"
      ]
     },
     "execution_count": 15,
     "metadata": {},
     "output_type": "execute_result"
    }
   ],
   "source": [
    "n = 100\n",
    "# A = randn(n, n) # Random matrices are inaccurate\n",
    "A = randn(n, n) + 100I # Adding value makes it \"stable\"\n",
    "x = randn(n)\n",
    "A * x\n",
    "mul_rows(A, x)"
   ]
  },
  {
   "cell_type": "code",
   "execution_count": 16,
   "metadata": {},
   "outputs": [
    {
     "data": {
      "text/plain": [
       "3×3 Matrix{Int64}:\n",
       " 1  2  3\n",
       " 4  5  6\n",
       " 7  8  9"
      ]
     },
     "execution_count": 16,
     "metadata": {},
     "output_type": "execute_result"
    }
   ],
   "source": [
    "A = [1 2 3;\n",
    "     4 5 6;\n",
    "     7 8 9]"
   ]
  },
  {
   "cell_type": "code",
   "execution_count": 17,
   "id": "34b602db",
   "metadata": {},
   "outputs": [
    {
     "data": {
      "text/plain": [
       "3×3 UpperTriangular{Int64, Matrix{Int64}}:\n",
       " 1  2  3\n",
       " ⋅  5  6\n",
       " ⋅  ⋅  9"
      ]
     },
     "execution_count": 17,
     "metadata": {},
     "output_type": "execute_result"
    }
   ],
   "source": [
    "U = UpperTriangular(A)"
   ]
  },
  {
   "cell_type": "code",
   "execution_count": 18,
   "id": "3f9d5e71",
   "metadata": {},
   "outputs": [
    {
     "data": {
      "text/plain": [
       "3×3 Matrix{Int64}:\n",
       " 1  2  6\n",
       " 4  5  6\n",
       " 7  8  9"
      ]
     },
     "execution_count": 18,
     "metadata": {},
     "output_type": "execute_result"
    }
   ],
   "source": [
    "U[1, 3] = 6\n",
    "U.data"
   ]
  },
  {
   "cell_type": "code",
   "execution_count": 19,
   "id": "6385c898",
   "metadata": {},
   "outputs": [
    {
     "data": {
      "text/plain": [
       "3×3 Matrix{Int64}:\n",
       " 1  2  6\n",
       " 4  5  6\n",
       " 7  8  9"
      ]
     },
     "execution_count": 19,
     "metadata": {},
     "output_type": "execute_result"
    }
   ],
   "source": [
    "A # A also changes as U is pointing to A"
   ]
  },
  {
   "cell_type": "code",
   "execution_count": null,
   "id": "23182de8",
   "metadata": {},
   "outputs": [
    {
     "ename": "",
     "evalue": "",
     "output_type": "error",
     "traceback": [
      "\u001b[1;31mFailed to start the Kernel. \n",
      "\u001b[1;31mReadOnlyMemoryError(). \n",
      "\u001b[1;31mView Jupyter <a href='command:jupyter.viewOutput'>log</a> for further details."
     ]
    }
   ],
   "source": []
  }
 ],
 "metadata": {
  "kernelspec": {
   "display_name": "Julia 1.8.5",
   "language": "julia",
   "name": "julia-1.8"
  },
  "language_info": {
   "file_extension": ".jl",
   "mimetype": "application/julia",
   "name": "julia",
   "version": "1.8.5"
  }
 },
 "nbformat": 4,
 "nbformat_minor": 5
}
